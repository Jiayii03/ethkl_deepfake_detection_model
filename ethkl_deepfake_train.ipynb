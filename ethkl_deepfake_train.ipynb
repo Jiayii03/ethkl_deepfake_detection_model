{
 "cells": [
  {
   "cell_type": "markdown",
   "metadata": {},
   "source": [
    "## EthKL Deepfake Detector Notebook"
   ]
  },
  {
   "cell_type": "code",
   "execution_count": 104,
   "metadata": {},
   "outputs": [],
   "source": [
    "import os\n",
    "import json\n",
    "import cv2\n",
    "import torch\n",
    "import numpy as np\n",
    "from torch.utils.data import Dataset, DataLoader\n",
    "from torchvision import transforms\n",
    "from sklearn.model_selection import train_test_split\n",
    "\n",
    "# Load the Haar cascade for face detection\n",
    "face_cascade = cv2.CascadeClassifier(cv2.data.haarcascades + 'haarcascade_frontalface_default.xml')\n",
    "\n",
    "class VideoDataset(Dataset):\n",
    "    def __init__(self, video_folder, metadata_file, num_frames, transform=None, video_keys=None, limit=None):\n",
    "        self.video_folder = video_folder\n",
    "        self.transform = transform\n",
    "        self.num_frames = num_frames\n",
    "        self.video_keys = video_keys\n",
    "        \n",
    "        # Load metadata\n",
    "        with open(metadata_file, 'r') as f:\n",
    "            self.metadata = json.load(f)\n",
    "            \n",
    "        # Apply limit to video keys if specified\n",
    "        if limit:\n",
    "            self.video_keys = self.video_keys[:limit]\n",
    "\n",
    "    def __len__(self):\n",
    "        return len(self.video_keys)\n",
    "\n",
    "    def __getitem__(self, idx):\n",
    "        video_name = self.video_keys[idx]\n",
    "        label = 1 if self.metadata[video_name]['label'] == \"FAKE\" else 0\n",
    "\n",
    "        video_path = os.path.join(self.video_folder, video_name)\n",
    "        cap = cv2.VideoCapture(video_path)\n",
    "\n",
    "        total_frames = int(cap.get(cv2.CAP_PROP_FRAME_COUNT))\n",
    "        \n",
    "        # Calculate frame indices to extract evenly\n",
    "        frame_indices = np.linspace(0, total_frames - 1, self.num_frames, dtype=int)\n",
    "        frames = []\n",
    "\n",
    "        for frame_idx in frame_indices:\n",
    "            cap.set(cv2.CAP_PROP_POS_FRAMES, frame_idx)  # Set the frame position\n",
    "            ret, frame = cap.read()\n",
    "            if ret:\n",
    "                # Convert frame to grayscale for face detection\n",
    "                gray = cv2.cvtColor(frame, cv2.COLOR_BGR2GRAY)\n",
    "                # Detect faces in the frame\n",
    "                faces = face_cascade.detectMultiScale(gray, scaleFactor=1.1, minNeighbors=5)\n",
    "\n",
    "                if len(faces) > 0:\n",
    "                    (x, y, w, h) = faces[0]  # Get the first detected face\n",
    "                    frame = frame[y:y+h, x:x+w]  # Crop the face\n",
    "                    \n",
    "                    # Convert BGR to RGB\n",
    "                    frame = cv2.cvtColor(frame, cv2.COLOR_BGR2RGB)\n",
    "                    \n",
    "                    # If frame is mostly black, skip it\n",
    "                    if np.mean(frame) < 75:\n",
    "                        continue\n",
    "\n",
    "                    if self.transform:\n",
    "                        frame = self.transform(frame)\n",
    "                        \n",
    "                    frames.append(frame)\n",
    "            else:\n",
    "                break\n",
    "        \n",
    "        cap.release()\n",
    "\n",
    "        # If fewer valid frames were read, duplicate the last frame until the required number is reached\n",
    "        while len(frames) < self.num_frames:\n",
    "            if frames:  # Check if there's at least one valid frame\n",
    "                frames.append(frames[-1])  # Duplicate the last valid frame\n",
    "            else:\n",
    "                frames.append(torch.zeros((3, 224, 224)))  # Add empty frame if no valid frame\n",
    "\n",
    "        return torch.stack(frames), label"
   ]
  },
  {
   "cell_type": "code",
   "execution_count": 105,
   "metadata": {},
   "outputs": [],
   "source": [
    "import matplotlib.pyplot as plt\n",
    "\n",
    "# Function to visualize sample frames\n",
    "def show_sample_frames(frames, labels, video_keys):\n",
    "    # Iterate through the batch\n",
    "    for i in range(frames.size(0)):  # Iterate through each video in the batch\n",
    "        plt.figure(figsize=(12, 6))\n",
    "        plt.suptitle(f'Video Key: {video_keys[i]} | Video Label: {labels[i].item()}')\n",
    "        \n",
    "        # Plot each frame in the video\n",
    "        for j in range(frames.size(1)):  # Iterate through the frames of the video\n",
    "            plt.subplot(4, 8, j + 1)  # 4 rows, 8 columns\n",
    "            frame = frames[i][j].permute(1, 2, 0).numpy()  # Change shape to (H, W, C)\n",
    "            plt.imshow(frame)\n",
    "            plt.axis('off')  # Hide axes\n",
    "\n",
    "        plt.show()  # Show the plots"
   ]
  },
  {
   "cell_type": "code",
   "execution_count": 109,
   "metadata": {},
   "outputs": [
    {
     "name": "stdout",
     "output_type": "stream",
     "text": [
      "Total number of video keys extracted: 30\n",
      "Number of REAL videos: 15\n",
      "Number of FAKE videos: 15\n"
     ]
    }
   ],
   "source": [
    "import json\n",
    "LIMIT = 30\n",
    "real_keys_limit = int(LIMIT / 2)\n",
    "\n",
    "def extract_video_keys(metadata_file, limit):\n",
    "    # Load metadata\n",
    "    with open(metadata_file, 'r') as f:\n",
    "        metadata = json.load(f)\n",
    "\n",
    "    # Lists to store REAL and FAKE keys\n",
    "    real_keys = []\n",
    "    fake_keys = []\n",
    "\n",
    "    # Separate keys based on label\n",
    "    for video_key, info in metadata.items():\n",
    "        if info['label'] == 'REAL':\n",
    "            real_keys.append(video_key)\n",
    "        elif info['label'] == 'FAKE':\n",
    "            fake_keys.append(video_key)\n",
    "\n",
    "    # Combine REAL keys with FAKE keys until the limit is reached\n",
    "    # maximum 500 real keys\n",
    "    if len(real_keys) > real_keys_limit:\n",
    "        real_keys = real_keys[:real_keys_limit]\n",
    "    selected_keys = real_keys.copy()\n",
    "    remaining_limit = limit - len(selected_keys)\n",
    "\n",
    "    if remaining_limit > 0:\n",
    "        selected_keys.extend(fake_keys[:remaining_limit])  # Add FAKE keys if needed\n",
    "\n",
    "    return real_keys, fake_keys, selected_keys\n",
    "\n",
    "# Usage\n",
    "metadata_file = \"../dataset/dfdc_train_part_49/dfdc_train_part_49/metadata.json\"\n",
    "real_keys, fake_keys, video_keys = extract_video_keys(metadata_file, LIMIT)\n",
    "\n",
    "# Check the number of keys extracted\n",
    "print(f\"Total number of video keys extracted: {len(video_keys)}\")\n",
    "print(f\"Number of REAL videos: {len(real_keys)}\")\n",
    "print(f\"Number of FAKE videos: {len(video_keys) - len(real_keys)}\")\n"
   ]
  },
  {
   "cell_type": "code",
   "execution_count": 110,
   "metadata": {},
   "outputs": [
    {
     "name": "stdout",
     "output_type": "stream",
     "text": [
      "Printing training batch:\n",
      "torch.Size([4, 30, 3, 224, 224])\n",
      "tensor([0, 0, 0, 1])\n",
      "Printing training batch:\n",
      "torch.Size([4, 30, 3, 224, 224])\n",
      "tensor([0, 1, 1, 0])\n",
      "Printing training batch:\n",
      "torch.Size([4, 30, 3, 224, 224])\n",
      "tensor([1, 1, 1, 1])\n",
      "Printing training batch:\n",
      "torch.Size([4, 30, 3, 224, 224])\n",
      "tensor([1, 0, 0, 0])\n",
      "Printing training batch:\n",
      "torch.Size([4, 30, 3, 224, 224])\n",
      "tensor([0, 0, 0, 1])\n",
      "Printing training batch:\n",
      "torch.Size([4, 30, 3, 224, 224])\n",
      "tensor([1, 1, 0, 1])\n",
      "Printing testing batch:\n",
      "torch.Size([4, 30, 3, 224, 224])\n",
      "tensor([0, 1, 0, 1])\n",
      "Printing testing batch:\n",
      "torch.Size([2, 30, 3, 224, 224])\n",
      "tensor([0, 1])\n"
     ]
    }
   ],
   "source": [
    "# Video folder and metadata file\n",
    "video_folder = \"../dataset/dfdc_train_part_49/dfdc_train_part_49\"\n",
    "metadata_file = f\"{video_folder}/metadata.json\"\n",
    "\n",
    "# Create the dataset with a limit of 1000 videos\n",
    "with open(metadata_file, 'r') as f:\n",
    "    metadata = json.load(f)\n",
    "\n",
    "# Split video keys into train and test sets\n",
    "train_keys, test_keys = train_test_split(video_keys, test_size=0.3, random_state=42, stratify=[metadata[key]['label'] for key in video_keys])\n",
    "\n",
    "# Define transformation for the frames\n",
    "transform = transforms.Compose([\n",
    "    transforms.ToPILImage(),\n",
    "    transforms.Resize((224, 224)),\n",
    "    transforms.ToTensor(),\n",
    "    transforms.Normalize(mean=[0.485, 0.456, 0.406], std=[0.229, 0.224, 0.225])\n",
    "])\n",
    "\n",
    "# Create datasets for training and testing\n",
    "train_dataset = VideoDataset(video_folder=video_folder, metadata_file=metadata_file, num_frames=30, transform=transform, video_keys=train_keys)\n",
    "test_dataset = VideoDataset(video_folder=video_folder, metadata_file=metadata_file, num_frames=30, transform=transform, video_keys=test_keys)\n",
    "\n",
    "# Create DataLoaders for training and testing\n",
    "train_loader = DataLoader(train_dataset, batch_size=4, shuffle=True)\n",
    "test_loader = DataLoader(test_dataset, batch_size=4, shuffle=False)\n",
    "\n",
    "# Example of iterating through the training DataLoader\n",
    "for frames, labels in train_loader:\n",
    "    print(\"Printing training batch:\")\n",
    "    print(frames.shape)  # Should print (batch_size, num_frames, channels, height, width)\n",
    "    print(labels)\n",
    "    # show_sample_frames(frames, labels, train_dataset.video_keys)\n",
    "    \n",
    "for frames, labels in test_loader:\n",
    "    print(\"Printing testing batch:\")\n",
    "    print(frames.shape)  # Should print (batch_size, num_frames, channels, height, width)\n",
    "    print(labels)\n",
    "    # show_sample_frames(frames, labels, test_dataset.video_keys)"
   ]
  },
  {
   "cell_type": "code",
   "execution_count": 119,
   "metadata": {},
   "outputs": [
    {
     "name": "stdout",
     "output_type": "stream",
     "text": [
      "['teffiqocch.mp4', 'obutchbzkp.mp4', 'razacdewcv.mp4', 'bdsxxaamze.mp4', 'vhyvttctxs.mp4', 'tigrqefect.mp4', 'rkbxybizvj.mp4', 'okgoflrwph.mp4', 'qcyjwpyzre.mp4', 'mfcfhhxzif.mp4', 'wnfqtbneoe.mp4', 'puayaegfzc.mp4', 'tfceaqvefa.mp4', 'nfjfylwjvj.mp4', 'dwwytkheyx.mp4', 'syfzjjdmxh.mp4', 'mmffoscwcq.mp4', 'tmvqmdzyln.mp4', 'sqqamveljk.mp4', 'jvlvkijuwa.mp4', 'nlcqykqsdp.mp4', 'rgksdbawuc.mp4', 'fakfkpzenm.mp4', 'tgbjtksars.mp4']\n"
     ]
    }
   ],
   "source": [
    "print(train_keys)"
   ]
  },
  {
   "cell_type": "code",
   "execution_count": 111,
   "metadata": {},
   "outputs": [],
   "source": [
    "import torch\n",
    "import torch.nn as nn\n",
    "import torch.optim as optim\n",
    "from torch.utils.data import DataLoader\n",
    "from tqdm.auto import tqdm\n",
    "\n",
    "# Check if GPU is available\n",
    "device = torch.device('cuda' if torch.cuda.is_available() else 'cpu')\n",
    "\n",
    "class CNNLSTM(nn.Module):\n",
    "    def __init__(self, num_classes=2):\n",
    "        super(CNNLSTM, self).__init__()\n",
    "        self.cnn = nn.Sequential(\n",
    "            nn.Conv2d(3, 32, kernel_size=3, padding='same'),\n",
    "            nn.ReLU(),\n",
    "            nn.MaxPool2d(2),\n",
    "            nn.Conv2d(32, 64, kernel_size=3, padding='same'),\n",
    "            nn.ReLU(),\n",
    "            nn.MaxPool2d(2),\n",
    "            nn.Conv2d(64, 128, kernel_size=3, padding='same'),\n",
    "            nn.ReLU(),\n",
    "            nn.MaxPool2d(2),\n",
    "        )\n",
    "        self.lstm = nn.LSTM(128 * 28 * 28, 256, batch_first=True)  # Adjust input size based on CNN output\n",
    "        self.fc = nn.Linear(256, num_classes)\n",
    "\n",
    "    def forward(self, x):\n",
    "        batch_size, num_frames, c, h, w = x.size()\n",
    "        # Reshape for CNN\n",
    "        x = x.view(-1, c, h, w)\n",
    "        x = self.cnn(x)\n",
    "        x = x.view(batch_size, num_frames, -1)  # Shape to (batch_size, num_frames, features)\n",
    "        x, _ = self.lstm(x)  # Apply LSTM\n",
    "        x = x[:, -1, :]  # Get the output of the last frame\n",
    "        x = self.fc(x)  # Final output\n",
    "        return x"
   ]
  },
  {
   "cell_type": "code",
   "execution_count": 112,
   "metadata": {},
   "outputs": [],
   "source": [
    "# Train Step Function\n",
    "def train_step(model, dataloader, loss_fn, optimizer, device):\n",
    "    model.train()  # Set the model to training mode\n",
    "    running_loss = 0.0\n",
    "    correct = 0\n",
    "    total = 0\n",
    "\n",
    "    for frames, labels in tqdm(dataloader, leave=False):\n",
    "        frames, labels = frames.to(device), labels.to(device)\n",
    "\n",
    "        # Zero the parameter gradients\n",
    "        optimizer.zero_grad()\n",
    "\n",
    "        # Forward pass\n",
    "        outputs = model(frames)\n",
    "        loss = loss_fn(outputs, labels)\n",
    "\n",
    "        # Backward pass and optimization\n",
    "        loss.backward()\n",
    "        optimizer.step()\n",
    "\n",
    "        # Statistics\n",
    "        running_loss += loss.item()\n",
    "        _, predicted = torch.max(outputs.data, 1)\n",
    "        total += labels.size(0)\n",
    "        correct += (predicted == labels).sum().item()\n",
    "\n",
    "    epoch_loss = running_loss / len(dataloader)\n",
    "    epoch_accuracy = correct / total\n",
    "\n",
    "    return epoch_loss, epoch_accuracy\n",
    "\n",
    "\n",
    "# Test Step Function\n",
    "def test_step(model, dataloader, loss_fn, device):\n",
    "    model.eval()  # Set the model to evaluation mode\n",
    "    running_loss = 0.0\n",
    "    correct = 0\n",
    "    total = 0\n",
    "\n",
    "    with torch.no_grad():\n",
    "        for frames, labels in tqdm(dataloader, leave=False):\n",
    "            frames, labels = frames.to(device), labels.to(device)\n",
    "\n",
    "            # Forward pass\n",
    "            outputs = model(frames)\n",
    "            loss = loss_fn(outputs, labels)\n",
    "\n",
    "            # Calculate predictions\n",
    "            _, predicted = torch.max(outputs.data, 1)\n",
    "            total += labels.size(0)\n",
    "            correct += (predicted == labels).sum().item()\n",
    "\n",
    "            # Collect loss for validation\n",
    "            running_loss += loss.item()\n",
    "\n",
    "    epoch_loss = running_loss / len(dataloader)\n",
    "    epoch_accuracy = correct / total\n",
    "\n",
    "    return epoch_loss, epoch_accuracy"
   ]
  },
  {
   "cell_type": "code",
   "execution_count": 113,
   "metadata": {},
   "outputs": [],
   "source": [
    "# Train Function\n",
    "def train(model: torch.nn.Module, \n",
    "          train_dataloader: torch.utils.data.DataLoader, \n",
    "          test_dataloader: torch.utils.data.DataLoader, \n",
    "          optimizer: torch.optim.Optimizer,\n",
    "          device: torch.device,\n",
    "          loss_fn: torch.nn.Module,\n",
    "          epochs: int) -> dict:\n",
    "    \n",
    "    # 1. Create empty results dictionary\n",
    "    results = {\n",
    "        \"train_loss\": [],\n",
    "        \"train_acc\": [],\n",
    "        \"test_loss\": [],\n",
    "        \"test_acc\": []\n",
    "    }\n",
    "\n",
    "    # 2. Loop through training and testing steps for a number of epochs\n",
    "    for epoch in tqdm(range(epochs), desc=\"Epochs\"):  # use tqdm to show a progress bar\n",
    "        train_loss, train_acc = train_step(\n",
    "            model=model,\n",
    "            dataloader=train_dataloader,\n",
    "            loss_fn=loss_fn,\n",
    "            optimizer=optimizer,\n",
    "            device=device\n",
    "        )\n",
    "\n",
    "        test_loss, test_acc = test_step(\n",
    "            model=model,\n",
    "            dataloader=test_dataloader,\n",
    "            loss_fn=loss_fn,\n",
    "            device=device\n",
    "        )\n",
    "\n",
    "        # 3. Print out what's happening\n",
    "        print(\n",
    "            f\"Epoch: {epoch + 1}/{epochs} | \"\n",
    "            f\"train_loss: {train_loss:.4f} | \"\n",
    "            f\"train_acc: {train_acc:.4f} | \"\n",
    "            f\"test_loss: {test_loss:.4f} | \"\n",
    "            f\"test_acc: {test_acc:.4f}\"\n",
    "        )\n",
    "\n",
    "        # 4. Update results dictionary\n",
    "        results[\"train_loss\"].append(train_loss)\n",
    "        results[\"train_acc\"].append(train_acc)\n",
    "        results[\"test_loss\"].append(test_loss)\n",
    "        results[\"test_acc\"].append(test_acc)\n",
    "\n",
    "    # 5. Return the filled results at the end of the epochs\n",
    "    return results"
   ]
  },
  {
   "cell_type": "code",
   "execution_count": 114,
   "metadata": {},
   "outputs": [
    {
     "name": "stderr",
     "output_type": "stream",
     "text": [
      "Epochs:   5%|▌         | 1/20 [02:45<52:33, 165.99s/it]"
     ]
    },
    {
     "name": "stdout",
     "output_type": "stream",
     "text": [
      "Epoch: 1/20 | train_loss: 0.8877 | train_acc: 0.4167 | test_loss: 0.6921 | test_acc: 0.5000\n"
     ]
    },
    {
     "name": "stderr",
     "output_type": "stream",
     "text": [
      "Epochs:  10%|█         | 2/20 [05:19<47:34, 158.61s/it]"
     ]
    },
    {
     "name": "stdout",
     "output_type": "stream",
     "text": [
      "Epoch: 2/20 | train_loss: 0.7736 | train_acc: 0.4167 | test_loss: 0.7300 | test_acc: 0.5000\n"
     ]
    },
    {
     "name": "stderr",
     "output_type": "stream",
     "text": [
      "Epochs:  15%|█▌        | 3/20 [08:03<45:41, 161.29s/it]"
     ]
    },
    {
     "name": "stdout",
     "output_type": "stream",
     "text": [
      "Epoch: 3/20 | train_loss: 0.7139 | train_acc: 0.5000 | test_loss: 0.7071 | test_acc: 0.5000\n"
     ]
    },
    {
     "name": "stderr",
     "output_type": "stream",
     "text": [
      "Epochs:  20%|██        | 4/20 [10:58<44:23, 166.45s/it]"
     ]
    },
    {
     "name": "stdout",
     "output_type": "stream",
     "text": [
      "Epoch: 4/20 | train_loss: 0.7200 | train_acc: 0.3750 | test_loss: 0.6938 | test_acc: 0.5000\n"
     ]
    },
    {
     "name": "stderr",
     "output_type": "stream",
     "text": [
      "Epochs:  25%|██▌       | 5/20 [13:50<42:09, 168.65s/it]"
     ]
    },
    {
     "name": "stdout",
     "output_type": "stream",
     "text": [
      "Epoch: 5/20 | train_loss: 0.6980 | train_acc: 0.2917 | test_loss: 0.6953 | test_acc: 0.3333\n"
     ]
    },
    {
     "name": "stderr",
     "output_type": "stream",
     "text": [
      "Epochs:  30%|███       | 6/20 [16:44<39:43, 170.24s/it]"
     ]
    },
    {
     "name": "stdout",
     "output_type": "stream",
     "text": [
      "Epoch: 6/20 | train_loss: 0.7064 | train_acc: 0.5833 | test_loss: 0.7116 | test_acc: 0.5000\n"
     ]
    },
    {
     "name": "stderr",
     "output_type": "stream",
     "text": [
      "Epochs:  35%|███▌      | 7/20 [19:25<36:16, 167.41s/it]"
     ]
    },
    {
     "name": "stdout",
     "output_type": "stream",
     "text": [
      "Epoch: 7/20 | train_loss: 0.6873 | train_acc: 0.5000 | test_loss: 0.7165 | test_acc: 0.5000\n"
     ]
    },
    {
     "name": "stderr",
     "output_type": "stream",
     "text": [
      "Epochs:  40%|████      | 8/20 [22:12<33:27, 167.33s/it]"
     ]
    },
    {
     "name": "stdout",
     "output_type": "stream",
     "text": [
      "Epoch: 8/20 | train_loss: 0.6753 | train_acc: 0.6250 | test_loss: 0.7464 | test_acc: 0.3333\n"
     ]
    },
    {
     "name": "stderr",
     "output_type": "stream",
     "text": [
      "Epochs:  45%|████▌     | 9/20 [24:53<30:17, 165.23s/it]"
     ]
    },
    {
     "name": "stdout",
     "output_type": "stream",
     "text": [
      "Epoch: 9/20 | train_loss: 0.6615 | train_acc: 0.7083 | test_loss: 0.7470 | test_acc: 0.3333\n"
     ]
    },
    {
     "name": "stderr",
     "output_type": "stream",
     "text": [
      "Epochs:  50%|█████     | 10/20 [27:35<27:21, 164.15s/it]"
     ]
    },
    {
     "name": "stdout",
     "output_type": "stream",
     "text": [
      "Epoch: 10/20 | train_loss: 0.6385 | train_acc: 0.7083 | test_loss: 0.7868 | test_acc: 0.3333\n"
     ]
    },
    {
     "name": "stderr",
     "output_type": "stream",
     "text": [
      "Epochs:  55%|█████▌    | 11/20 [30:21<24:43, 164.83s/it]"
     ]
    },
    {
     "name": "stdout",
     "output_type": "stream",
     "text": [
      "Epoch: 11/20 | train_loss: 0.6184 | train_acc: 0.7917 | test_loss: 0.8221 | test_acc: 0.1667\n"
     ]
    },
    {
     "name": "stderr",
     "output_type": "stream",
     "text": [
      "Epochs:  60%|██████    | 12/20 [33:08<22:02, 165.37s/it]"
     ]
    },
    {
     "name": "stdout",
     "output_type": "stream",
     "text": [
      "Epoch: 12/20 | train_loss: 0.6398 | train_acc: 0.6667 | test_loss: 0.7930 | test_acc: 0.3333\n"
     ]
    },
    {
     "name": "stderr",
     "output_type": "stream",
     "text": [
      "Epochs:  65%|██████▌   | 13/20 [35:47<19:05, 163.60s/it]"
     ]
    },
    {
     "name": "stdout",
     "output_type": "stream",
     "text": [
      "Epoch: 13/20 | train_loss: 0.6416 | train_acc: 0.5833 | test_loss: 0.7655 | test_acc: 0.5000\n"
     ]
    },
    {
     "name": "stderr",
     "output_type": "stream",
     "text": [
      "Epochs:  70%|███████   | 14/20 [38:39<16:37, 166.17s/it]"
     ]
    },
    {
     "name": "stdout",
     "output_type": "stream",
     "text": [
      "Epoch: 14/20 | train_loss: 0.6226 | train_acc: 0.6250 | test_loss: 0.7669 | test_acc: 0.5000\n"
     ]
    },
    {
     "name": "stderr",
     "output_type": "stream",
     "text": [
      "Epochs:  75%|███████▌  | 15/20 [41:24<13:48, 165.77s/it]"
     ]
    },
    {
     "name": "stdout",
     "output_type": "stream",
     "text": [
      "Epoch: 15/20 | train_loss: 0.5929 | train_acc: 0.6667 | test_loss: 0.7571 | test_acc: 0.5000\n"
     ]
    },
    {
     "name": "stderr",
     "output_type": "stream",
     "text": [
      "Epochs:  80%|████████  | 16/20 [44:13<11:07, 166.76s/it]"
     ]
    },
    {
     "name": "stdout",
     "output_type": "stream",
     "text": [
      "Epoch: 16/20 | train_loss: 0.5804 | train_acc: 0.7083 | test_loss: 0.7327 | test_acc: 0.3333\n"
     ]
    },
    {
     "name": "stderr",
     "output_type": "stream",
     "text": [
      "Epochs:  85%|████████▌ | 17/20 [47:05<08:24, 168.20s/it]"
     ]
    },
    {
     "name": "stdout",
     "output_type": "stream",
     "text": [
      "Epoch: 17/20 | train_loss: 0.5205 | train_acc: 0.7500 | test_loss: 0.7540 | test_acc: 0.5000\n"
     ]
    },
    {
     "name": "stderr",
     "output_type": "stream",
     "text": [
      "Epochs:  90%|█████████ | 18/20 [49:49<05:33, 166.99s/it]"
     ]
    },
    {
     "name": "stdout",
     "output_type": "stream",
     "text": [
      "Epoch: 18/20 | train_loss: 0.4876 | train_acc: 0.8750 | test_loss: 0.7701 | test_acc: 0.1667\n"
     ]
    },
    {
     "name": "stderr",
     "output_type": "stream",
     "text": [
      "Epochs:  95%|█████████▌| 19/20 [52:31<02:45, 165.61s/it]"
     ]
    },
    {
     "name": "stdout",
     "output_type": "stream",
     "text": [
      "Epoch: 19/20 | train_loss: 0.4945 | train_acc: 0.8333 | test_loss: 0.7896 | test_acc: 0.3333\n"
     ]
    },
    {
     "name": "stderr",
     "output_type": "stream",
     "text": [
      "Epochs: 100%|██████████| 20/20 [55:23<00:00, 166.18s/it]"
     ]
    },
    {
     "name": "stdout",
     "output_type": "stream",
     "text": [
      "Epoch: 20/20 | train_loss: 0.4676 | train_acc: 0.8333 | test_loss: 0.7549 | test_acc: 0.5000\n"
     ]
    },
    {
     "name": "stderr",
     "output_type": "stream",
     "text": [
      "\n"
     ]
    }
   ],
   "source": [
    "import matplotlib.pyplot as plt\n",
    "\n",
    "# Set the device\n",
    "device = torch.device(\"cuda\" if torch.cuda.is_available() else \"cpu\")\n",
    "\n",
    "# Initialize model, loss function, and optimizer\n",
    "model = CNNLSTM(num_classes=2).to(device)  \n",
    "loss_fn = nn.CrossEntropyLoss()\n",
    "optimizer = optim.Adam(model.parameters(), lr=0.001)\n",
    "# Number of epochs\n",
    "NUM_EPOCHS = 20\n",
    "\n",
    "# Move the model to the appropriate device\n",
    "model = model.to(device)\n",
    "\n",
    "# Train the model and get results\n",
    "results = train(\n",
    "    model=model,\n",
    "    train_dataloader=train_loader,\n",
    "    test_dataloader=test_loader,\n",
    "    optimizer=optimizer,\n",
    "    device=device,\n",
    "    loss_fn=loss_fn, \n",
    "    epochs=NUM_EPOCHS\n",
    ")"
   ]
  },
  {
   "cell_type": "code",
   "execution_count": 120,
   "metadata": {},
   "outputs": [
    {
     "data": {
      "image/png": "[encoded data removed]",
      "text/plain": [
       "<Figure size 1400x500 with 2 Axes>"
      ]
     },
     "metadata": {},
     "output_type": "display_data"
    },
    {
     "data": {
      "text/plain": [
       "<Figure size 640x480 with 0 Axes>"
      ]
     },
     "metadata": {},
     "output_type": "display_data"
    }
   ],
   "source": [
    "# Plotting function\n",
    "def plot_training_results(results):\n",
    "    # Extract loss and accuracy\n",
    "    train_loss = results[\"train_loss\"]\n",
    "    train_acc = results[\"train_acc\"]\n",
    "    test_loss = results[\"test_loss\"]\n",
    "    test_acc = results[\"test_acc\"]\n",
    "\n",
    "    # Set up the plots\n",
    "    epochs = range(1, len(train_loss) + 1)\n",
    "\n",
    "    plt.figure(figsize=(14, 5))\n",
    "\n",
    "    # Plot training and testing loss\n",
    "    plt.subplot(1, 2, 1)\n",
    "    plt.plot(epochs, train_loss, 'r', label='Training Loss')\n",
    "    plt.plot(epochs, test_loss, 'b', label='Testing Loss')\n",
    "    plt.xlabel('Epochs')\n",
    "    plt.ylabel('Loss')\n",
    "    plt.title('Training and Testing Loss')\n",
    "    plt.legend()\n",
    "\n",
    "    # Plot training and testing accuracy\n",
    "    plt.subplot(1, 2, 2)\n",
    "    plt.plot(epochs, train_acc, 'r', label='Training Accuracy')\n",
    "    plt.plot(epochs, test_acc, 'b', label='Testing Accuracy')\n",
    "    plt.xlabel('Epochs')\n",
    "    plt.ylabel('Accuracy')\n",
    "    plt.title('Training and Testing Accuracy')\n",
    "    plt.legend()\n",
    "\n",
    "    # Show the plots\n",
    "    plt.tight_layout()\n",
    "    plt.show()\n",
    "    \n",
    "    # save the plot\n",
    "    plt.savefig('training_results.png')\n",
    "\n",
    "# Call the plot function to visualize the training results\n",
    "plot_training_results(results)"
   ]
  },
  {
   "cell_type": "code",
   "execution_count": 117,
   "metadata": {},
   "outputs": [],
   "source": [
    "def save_model_weights(model, file_path):\n",
    "    \"\"\"Save model weights to a .pt file.\"\"\"\n",
    "    torch.save(model.state_dict(), file_path)\n",
    "    print(f\"Model weights saved to {file_path}\")\n",
    "    \n",
    "def load_model_weights(model, file_path):\n",
    "    \"\"\"Load model weights from a .pt file.\"\"\"\n",
    "    model.load_state_dict(torch.load(file_path))\n",
    "    model.eval()  # Set the model to evaluation mode\n",
    "    print(f\"Model weights loaded from {file_path}\")"
   ]
  },
  {
   "cell_type": "code",
   "execution_count": 118,
   "metadata": {},
   "outputs": [
    {
     "name": "stdout",
     "output_type": "stream",
     "text": [
      "Model weights saved to ../model\\ethkl_cnn_lstm_vid_30_epochs_20.pt\n"
     ]
    }
   ],
   "source": [
    "model_dir = \"../model\"\n",
    "\n",
    "# if dir not exist, create it\n",
    "if not os.path.exists(model_dir):\n",
    "    os.makedirs(model_dir)\n",
    "\n",
    "model_name = \"ethkl_cnn_lstm_vid_30_epochs_20.pt\"\n",
    "path = os.path.join(model_dir, model_name)  \n",
    "save_model_weights(model, path)\n",
    "\n",
    "# Then load the weights into this instance\n",
    "# load_model_weights(model, path)"
   ]
  }
 ],
 "metadata": {
  "kernelspec": {
   "display_name": "Python 3",
   "language": "python",
   "name": "python3"
  },
  "language_info": {
   "codemirror_mode": {
    "name": "ipython",
    "version": 3
   },
   "file_extension": ".py",
   "mimetype": "text/x-python",
   "name": "python",
   "nbconvert_exporter": "python",
   "pygments_lexer": "ipython3",
   "version": "3.12.5"
  }
 },
 "nbformat": 4,
 "nbformat_minor": 2
}
